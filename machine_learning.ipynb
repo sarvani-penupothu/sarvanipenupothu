{
  "nbformat": 4,
  "nbformat_minor": 0,
  "metadata": {
    "colab": {
      "provenance": [],
      "include_colab_link": true
    },
    "kernelspec": {
      "name": "python3",
      "display_name": "Python 3"
    },
    "language_info": {
      "name": "python"
    }
  },
  "cells": [
    {
      "cell_type": "markdown",
      "metadata": {
        "id": "view-in-github",
        "colab_type": "text"
      },
      "source": [
        "<a href=\"https://colab.research.google.com/github/sarvani-penupothu/sarvanipenupothu/blob/main/machine_learning.ipynb\" target=\"_parent\"><img src=\"https://colab.research.google.com/assets/colab-badge.svg\" alt=\"Open In Colab\"/></a>"
      ]
    },
    {
      "cell_type": "code",
      "source": [
        "from google.colab import drive\n",
        "drive.mount('/content/drive')"
      ],
      "metadata": {
        "colab": {
          "base_uri": "https://localhost:8080/"
        },
        "id": "WyTEvDpo-wOr",
        "outputId": "a90c3c84-e97b-480f-c50d-11cfec3a40b5"
      },
      "execution_count": null,
      "outputs": [
        {
          "output_type": "stream",
          "name": "stdout",
          "text": [
            "Drive already mounted at /content/drive; to attempt to forcibly remount, call drive.mount(\"/content/drive\", force_remount=True).\n"
          ]
        }
      ]
    },
    {
      "cell_type": "code",
      "source": [
        "import pandas as pd\n",
        "from sklearn.model_selection import train_test_split\n",
        "from sklearn.linear_model import LogisticRegression\n",
        "from sklearn.metrics import accuracy_score"
      ],
      "metadata": {
        "id": "gCXVIt5p-CyH"
      },
      "execution_count": null,
      "outputs": []
    },
    {
      "cell_type": "code",
      "source": [
        "from sklearn.preprocessing import OneHotEncoder, LabelEncoder\n",
        "from sklearn.compose import ColumnTransformer\n",
        "from sklearn.pipeline import Pipeline\n",
        "from sklearn.model_selection import train_test_split\n",
        "\n",
        "from sklearn.linear_model import LogisticRegression\n",
        "from sklearn.metrics import accuracy_score, classification_report"
      ],
      "metadata": {
        "id": "zUbouEAOJbGH"
      },
      "execution_count": null,
      "outputs": []
    },
    {
      "cell_type": "code",
      "source": [
        "train_df = pd.read_csv(\"/content/drive/MyDrive/projects/temp/train.csv\")\n",
        "test_df = pd.read_csv(\"/content/drive/MyDrive/projects/temp/test.csv\")\n",
        "\n",
        "train_df.shape, test_df.shape"
      ],
      "metadata": {
        "colab": {
          "base_uri": "https://localhost:8080/"
        },
        "id": "6PQ3duK8H49L",
        "outputId": "723af0b4-0056-4652-90cd-7b9d67c8ba00"
      },
      "execution_count": null,
      "outputs": [
        {
          "output_type": "execute_result",
          "data": {
            "text/plain": [
              "((87398, 17), (21850, 16))"
            ]
          },
          "metadata": {},
          "execution_count": 22
        }
      ]
    },
    {
      "cell_type": "code",
      "source": [
        "train_df.head()"
      ],
      "metadata": {
        "colab": {
          "base_uri": "https://localhost:8080/",
          "height": 452
        },
        "id": "EGWlYQEaIpxB",
        "outputId": "7366f2f2-bd8e-4a82-a86f-5642d2c5275c"
      },
      "execution_count": null,
      "outputs": [
        {
          "output_type": "execute_result",
          "data": {
            "text/plain": [
              "                         teacher_id teacher_prefix school_state  \\\n",
              "0  22aa8e52e6268788a9e5c10932da6f54           Mrs.           NJ   \n",
              "1  59d70f9999d4b63a2c95c42d61d8468c            Ms.           GA   \n",
              "2  168074f8c5e0bec129596844eab8c53d            Mr.           TX   \n",
              "3  2ac6e7a8b435d3fa6dc3c53a910de7e0            Ms.           CA   \n",
              "4  6492fd8d2fe4961e207facd59b807c39            Ms.           LA   \n",
              "\n",
              "  project_submitted_datetime project_grade_category  \\\n",
              "0        2016-06-20 23:05:15             Grades 3-5   \n",
              "1        2016-09-01 08:11:20          Grades PreK-2   \n",
              "2        2016-05-09 11:40:49            Grades 9-12   \n",
              "3        2016-11-27 18:15:15          Grades PreK-2   \n",
              "4        2016-07-07 19:20:49             Grades 3-5   \n",
              "\n",
              "           project_subject_categories   project_subject_subcategories  \\\n",
              "0                 Literacy & Language  Literacy, Literature & Writing   \n",
              "1  Literacy & Language, Special Needs         Literacy, Special Needs   \n",
              "2                    Applied Learning                 Extracurricular   \n",
              "3  Literacy & Language, Special Needs         Literacy, Special Needs   \n",
              "4                 Literacy & Language                        Literacy   \n",
              "\n",
              "                                       project_title  \\\n",
              "0               To Infinity and Beyond...Let's Edit!   \n",
              "1                            Reading With Our Ears?!   \n",
              "2                 Debate Materials for Upcoming Year   \n",
              "3   Help letter sounds come to life for my students!   \n",
              "4  Using Technology to Develop Comprehension Skil...   \n",
              "\n",
              "                                     project_essay_1  \\\n",
              "0  \\\"Can you be our teacher next year, you made S...   \n",
              "1  Living in poverty often means lack of access t...   \n",
              "2  We are a High School Speech and Debate Team. W...   \n",
              "3  My students are a fun bunch of diverse kids wh...   \n",
              "4  My students are working very hard to increase ...   \n",
              "\n",
              "                                     project_essay_2  \\\n",
              "0  I would love for my students to have the oppor...   \n",
              "1  Can you imagine a child not having the simple ...   \n",
              "2  My students are a mixture of male and female. ...   \n",
              "3  Alphabet and sound tubs will allow sounds to c...   \n",
              "4  I want to began the school year with a place w...   \n",
              "\n",
              "                                     project_essay_3  \\\n",
              "0                                                NaN   \n",
              "1                                                NaN   \n",
              "2  They will use the materials for basic function...   \n",
              "3                                                NaN   \n",
              "4                                                NaN   \n",
              "\n",
              "                                     project_essay_4  \\\n",
              "0                                                NaN   \n",
              "1                                                NaN   \n",
              "2  We have to beg, borrow and steal materials fro...   \n",
              "3                                                NaN   \n",
              "4                                                NaN   \n",
              "\n",
              "                            project_resource_summary  \\\n",
              "0  My students need a document camera to assist i...   \n",
              "1  My students need a listening center with headp...   \n",
              "2  My students need basic supplies for the upcomi...   \n",
              "3  My students need letter sound tubs to allow th...   \n",
              "4  My students need a large class rug to feel fre...   \n",
              "\n",
              "   teacher_number_of_previously_posted_projects  project_is_approved  \\\n",
              "0                                             0                    1   \n",
              "1                                            12                    1   \n",
              "2                                             1                    1   \n",
              "3                                             0                    1   \n",
              "4                                             0                    0   \n",
              "\n",
              "   total_quantity  total_price  \n",
              "0               1       264.99  \n",
              "1               5       847.00  \n",
              "2              13       222.20  \n",
              "3               5       318.97  \n",
              "4              25       606.41  "
            ],
            "text/html": [
              "\n",
              "  <div id=\"df-c2630687-d4c2-4bb4-87b4-15a0d1ddd131\" class=\"colab-df-container\">\n",
              "    <div>\n",
              "<style scoped>\n",
              "    .dataframe tbody tr th:only-of-type {\n",
              "        vertical-align: middle;\n",
              "    }\n",
              "\n",
              "    .dataframe tbody tr th {\n",
              "        vertical-align: top;\n",
              "    }\n",
              "\n",
              "    .dataframe thead th {\n",
              "        text-align: right;\n",
              "    }\n",
              "</style>\n",
              "<table border=\"1\" class=\"dataframe\">\n",
              "  <thead>\n",
              "    <tr style=\"text-align: right;\">\n",
              "      <th></th>\n",
              "      <th>teacher_id</th>\n",
              "      <th>teacher_prefix</th>\n",
              "      <th>school_state</th>\n",
              "      <th>project_submitted_datetime</th>\n",
              "      <th>project_grade_category</th>\n",
              "      <th>project_subject_categories</th>\n",
              "      <th>project_subject_subcategories</th>\n",
              "      <th>project_title</th>\n",
              "      <th>project_essay_1</th>\n",
              "      <th>project_essay_2</th>\n",
              "      <th>project_essay_3</th>\n",
              "      <th>project_essay_4</th>\n",
              "      <th>project_resource_summary</th>\n",
              "      <th>teacher_number_of_previously_posted_projects</th>\n",
              "      <th>project_is_approved</th>\n",
              "      <th>total_quantity</th>\n",
              "      <th>total_price</th>\n",
              "    </tr>\n",
              "  </thead>\n",
              "  <tbody>\n",
              "    <tr>\n",
              "      <th>0</th>\n",
              "      <td>22aa8e52e6268788a9e5c10932da6f54</td>\n",
              "      <td>Mrs.</td>\n",
              "      <td>NJ</td>\n",
              "      <td>2016-06-20 23:05:15</td>\n",
              "      <td>Grades 3-5</td>\n",
              "      <td>Literacy &amp; Language</td>\n",
              "      <td>Literacy, Literature &amp; Writing</td>\n",
              "      <td>To Infinity and Beyond...Let's Edit!</td>\n",
              "      <td>\\\"Can you be our teacher next year, you made S...</td>\n",
              "      <td>I would love for my students to have the oppor...</td>\n",
              "      <td>NaN</td>\n",
              "      <td>NaN</td>\n",
              "      <td>My students need a document camera to assist i...</td>\n",
              "      <td>0</td>\n",
              "      <td>1</td>\n",
              "      <td>1</td>\n",
              "      <td>264.99</td>\n",
              "    </tr>\n",
              "    <tr>\n",
              "      <th>1</th>\n",
              "      <td>59d70f9999d4b63a2c95c42d61d8468c</td>\n",
              "      <td>Ms.</td>\n",
              "      <td>GA</td>\n",
              "      <td>2016-09-01 08:11:20</td>\n",
              "      <td>Grades PreK-2</td>\n",
              "      <td>Literacy &amp; Language, Special Needs</td>\n",
              "      <td>Literacy, Special Needs</td>\n",
              "      <td>Reading With Our Ears?!</td>\n",
              "      <td>Living in poverty often means lack of access t...</td>\n",
              "      <td>Can you imagine a child not having the simple ...</td>\n",
              "      <td>NaN</td>\n",
              "      <td>NaN</td>\n",
              "      <td>My students need a listening center with headp...</td>\n",
              "      <td>12</td>\n",
              "      <td>1</td>\n",
              "      <td>5</td>\n",
              "      <td>847.00</td>\n",
              "    </tr>\n",
              "    <tr>\n",
              "      <th>2</th>\n",
              "      <td>168074f8c5e0bec129596844eab8c53d</td>\n",
              "      <td>Mr.</td>\n",
              "      <td>TX</td>\n",
              "      <td>2016-05-09 11:40:49</td>\n",
              "      <td>Grades 9-12</td>\n",
              "      <td>Applied Learning</td>\n",
              "      <td>Extracurricular</td>\n",
              "      <td>Debate Materials for Upcoming Year</td>\n",
              "      <td>We are a High School Speech and Debate Team. W...</td>\n",
              "      <td>My students are a mixture of male and female. ...</td>\n",
              "      <td>They will use the materials for basic function...</td>\n",
              "      <td>We have to beg, borrow and steal materials fro...</td>\n",
              "      <td>My students need basic supplies for the upcomi...</td>\n",
              "      <td>1</td>\n",
              "      <td>1</td>\n",
              "      <td>13</td>\n",
              "      <td>222.20</td>\n",
              "    </tr>\n",
              "    <tr>\n",
              "      <th>3</th>\n",
              "      <td>2ac6e7a8b435d3fa6dc3c53a910de7e0</td>\n",
              "      <td>Ms.</td>\n",
              "      <td>CA</td>\n",
              "      <td>2016-11-27 18:15:15</td>\n",
              "      <td>Grades PreK-2</td>\n",
              "      <td>Literacy &amp; Language, Special Needs</td>\n",
              "      <td>Literacy, Special Needs</td>\n",
              "      <td>Help letter sounds come to life for my students!</td>\n",
              "      <td>My students are a fun bunch of diverse kids wh...</td>\n",
              "      <td>Alphabet and sound tubs will allow sounds to c...</td>\n",
              "      <td>NaN</td>\n",
              "      <td>NaN</td>\n",
              "      <td>My students need letter sound tubs to allow th...</td>\n",
              "      <td>0</td>\n",
              "      <td>1</td>\n",
              "      <td>5</td>\n",
              "      <td>318.97</td>\n",
              "    </tr>\n",
              "    <tr>\n",
              "      <th>4</th>\n",
              "      <td>6492fd8d2fe4961e207facd59b807c39</td>\n",
              "      <td>Ms.</td>\n",
              "      <td>LA</td>\n",
              "      <td>2016-07-07 19:20:49</td>\n",
              "      <td>Grades 3-5</td>\n",
              "      <td>Literacy &amp; Language</td>\n",
              "      <td>Literacy</td>\n",
              "      <td>Using Technology to Develop Comprehension Skil...</td>\n",
              "      <td>My students are working very hard to increase ...</td>\n",
              "      <td>I want to began the school year with a place w...</td>\n",
              "      <td>NaN</td>\n",
              "      <td>NaN</td>\n",
              "      <td>My students need a large class rug to feel fre...</td>\n",
              "      <td>0</td>\n",
              "      <td>0</td>\n",
              "      <td>25</td>\n",
              "      <td>606.41</td>\n",
              "    </tr>\n",
              "  </tbody>\n",
              "</table>\n",
              "</div>\n",
              "    <div class=\"colab-df-buttons\">\n",
              "\n",
              "  <div class=\"colab-df-container\">\n",
              "    <button class=\"colab-df-convert\" onclick=\"convertToInteractive('df-c2630687-d4c2-4bb4-87b4-15a0d1ddd131')\"\n",
              "            title=\"Convert this dataframe to an interactive table.\"\n",
              "            style=\"display:none;\">\n",
              "\n",
              "  <svg xmlns=\"http://www.w3.org/2000/svg\" height=\"24px\" viewBox=\"0 -960 960 960\">\n",
              "    <path d=\"M120-120v-720h720v720H120Zm60-500h600v-160H180v160Zm220 220h160v-160H400v160Zm0 220h160v-160H400v160ZM180-400h160v-160H180v160Zm440 0h160v-160H620v160ZM180-180h160v-160H180v160Zm440 0h160v-160H620v160Z\"/>\n",
              "  </svg>\n",
              "    </button>\n",
              "\n",
              "  <style>\n",
              "    .colab-df-container {\n",
              "      display:flex;\n",
              "      gap: 12px;\n",
              "    }\n",
              "\n",
              "    .colab-df-convert {\n",
              "      background-color: #E8F0FE;\n",
              "      border: none;\n",
              "      border-radius: 50%;\n",
              "      cursor: pointer;\n",
              "      display: none;\n",
              "      fill: #1967D2;\n",
              "      height: 32px;\n",
              "      padding: 0 0 0 0;\n",
              "      width: 32px;\n",
              "    }\n",
              "\n",
              "    .colab-df-convert:hover {\n",
              "      background-color: #E2EBFA;\n",
              "      box-shadow: 0px 1px 2px rgba(60, 64, 67, 0.3), 0px 1px 3px 1px rgba(60, 64, 67, 0.15);\n",
              "      fill: #174EA6;\n",
              "    }\n",
              "\n",
              "    .colab-df-buttons div {\n",
              "      margin-bottom: 4px;\n",
              "    }\n",
              "\n",
              "    [theme=dark] .colab-df-convert {\n",
              "      background-color: #3B4455;\n",
              "      fill: #D2E3FC;\n",
              "    }\n",
              "\n",
              "    [theme=dark] .colab-df-convert:hover {\n",
              "      background-color: #434B5C;\n",
              "      box-shadow: 0px 1px 3px 1px rgba(0, 0, 0, 0.15);\n",
              "      filter: drop-shadow(0px 1px 2px rgba(0, 0, 0, 0.3));\n",
              "      fill: #FFFFFF;\n",
              "    }\n",
              "  </style>\n",
              "\n",
              "    <script>\n",
              "      const buttonEl =\n",
              "        document.querySelector('#df-c2630687-d4c2-4bb4-87b4-15a0d1ddd131 button.colab-df-convert');\n",
              "      buttonEl.style.display =\n",
              "        google.colab.kernel.accessAllowed ? 'block' : 'none';\n",
              "\n",
              "      async function convertToInteractive(key) {\n",
              "        const element = document.querySelector('#df-c2630687-d4c2-4bb4-87b4-15a0d1ddd131');\n",
              "        const dataTable =\n",
              "          await google.colab.kernel.invokeFunction('convertToInteractive',\n",
              "                                                    [key], {});\n",
              "        if (!dataTable) return;\n",
              "\n",
              "        const docLinkHtml = 'Like what you see? Visit the ' +\n",
              "          '<a target=\"_blank\" href=https://colab.research.google.com/notebooks/data_table.ipynb>data table notebook</a>'\n",
              "          + ' to learn more about interactive tables.';\n",
              "        element.innerHTML = '';\n",
              "        dataTable['output_type'] = 'display_data';\n",
              "        await google.colab.output.renderOutput(dataTable, element);\n",
              "        const docLink = document.createElement('div');\n",
              "        docLink.innerHTML = docLinkHtml;\n",
              "        element.appendChild(docLink);\n",
              "      }\n",
              "    </script>\n",
              "  </div>\n",
              "\n",
              "\n",
              "<div id=\"df-cbf57872-948c-4e61-a3d0-e9ae80f6ae2f\">\n",
              "  <button class=\"colab-df-quickchart\" onclick=\"quickchart('df-cbf57872-948c-4e61-a3d0-e9ae80f6ae2f')\"\n",
              "            title=\"Suggest charts\"\n",
              "            style=\"display:none;\">\n",
              "\n",
              "<svg xmlns=\"http://www.w3.org/2000/svg\" height=\"24px\"viewBox=\"0 0 24 24\"\n",
              "     width=\"24px\">\n",
              "    <g>\n",
              "        <path d=\"M19 3H5c-1.1 0-2 .9-2 2v14c0 1.1.9 2 2 2h14c1.1 0 2-.9 2-2V5c0-1.1-.9-2-2-2zM9 17H7v-7h2v7zm4 0h-2V7h2v10zm4 0h-2v-4h2v4z\"/>\n",
              "    </g>\n",
              "</svg>\n",
              "  </button>\n",
              "\n",
              "<style>\n",
              "  .colab-df-quickchart {\n",
              "      --bg-color: #E8F0FE;\n",
              "      --fill-color: #1967D2;\n",
              "      --hover-bg-color: #E2EBFA;\n",
              "      --hover-fill-color: #174EA6;\n",
              "      --disabled-fill-color: #AAA;\n",
              "      --disabled-bg-color: #DDD;\n",
              "  }\n",
              "\n",
              "  [theme=dark] .colab-df-quickchart {\n",
              "      --bg-color: #3B4455;\n",
              "      --fill-color: #D2E3FC;\n",
              "      --hover-bg-color: #434B5C;\n",
              "      --hover-fill-color: #FFFFFF;\n",
              "      --disabled-bg-color: #3B4455;\n",
              "      --disabled-fill-color: #666;\n",
              "  }\n",
              "\n",
              "  .colab-df-quickchart {\n",
              "    background-color: var(--bg-color);\n",
              "    border: none;\n",
              "    border-radius: 50%;\n",
              "    cursor: pointer;\n",
              "    display: none;\n",
              "    fill: var(--fill-color);\n",
              "    height: 32px;\n",
              "    padding: 0;\n",
              "    width: 32px;\n",
              "  }\n",
              "\n",
              "  .colab-df-quickchart:hover {\n",
              "    background-color: var(--hover-bg-color);\n",
              "    box-shadow: 0 1px 2px rgba(60, 64, 67, 0.3), 0 1px 3px 1px rgba(60, 64, 67, 0.15);\n",
              "    fill: var(--button-hover-fill-color);\n",
              "  }\n",
              "\n",
              "  .colab-df-quickchart-complete:disabled,\n",
              "  .colab-df-quickchart-complete:disabled:hover {\n",
              "    background-color: var(--disabled-bg-color);\n",
              "    fill: var(--disabled-fill-color);\n",
              "    box-shadow: none;\n",
              "  }\n",
              "\n",
              "  .colab-df-spinner {\n",
              "    border: 2px solid var(--fill-color);\n",
              "    border-color: transparent;\n",
              "    border-bottom-color: var(--fill-color);\n",
              "    animation:\n",
              "      spin 1s steps(1) infinite;\n",
              "  }\n",
              "\n",
              "  @keyframes spin {\n",
              "    0% {\n",
              "      border-color: transparent;\n",
              "      border-bottom-color: var(--fill-color);\n",
              "      border-left-color: var(--fill-color);\n",
              "    }\n",
              "    20% {\n",
              "      border-color: transparent;\n",
              "      border-left-color: var(--fill-color);\n",
              "      border-top-color: var(--fill-color);\n",
              "    }\n",
              "    30% {\n",
              "      border-color: transparent;\n",
              "      border-left-color: var(--fill-color);\n",
              "      border-top-color: var(--fill-color);\n",
              "      border-right-color: var(--fill-color);\n",
              "    }\n",
              "    40% {\n",
              "      border-color: transparent;\n",
              "      border-right-color: var(--fill-color);\n",
              "      border-top-color: var(--fill-color);\n",
              "    }\n",
              "    60% {\n",
              "      border-color: transparent;\n",
              "      border-right-color: var(--fill-color);\n",
              "    }\n",
              "    80% {\n",
              "      border-color: transparent;\n",
              "      border-right-color: var(--fill-color);\n",
              "      border-bottom-color: var(--fill-color);\n",
              "    }\n",
              "    90% {\n",
              "      border-color: transparent;\n",
              "      border-bottom-color: var(--fill-color);\n",
              "    }\n",
              "  }\n",
              "</style>\n",
              "\n",
              "  <script>\n",
              "    async function quickchart(key) {\n",
              "      const quickchartButtonEl =\n",
              "        document.querySelector('#' + key + ' button');\n",
              "      quickchartButtonEl.disabled = true;  // To prevent multiple clicks.\n",
              "      quickchartButtonEl.classList.add('colab-df-spinner');\n",
              "      try {\n",
              "        const charts = await google.colab.kernel.invokeFunction(\n",
              "            'suggestCharts', [key], {});\n",
              "      } catch (error) {\n",
              "        console.error('Error during call to suggestCharts:', error);\n",
              "      }\n",
              "      quickchartButtonEl.classList.remove('colab-df-spinner');\n",
              "      quickchartButtonEl.classList.add('colab-df-quickchart-complete');\n",
              "    }\n",
              "    (() => {\n",
              "      let quickchartButtonEl =\n",
              "        document.querySelector('#df-cbf57872-948c-4e61-a3d0-e9ae80f6ae2f button');\n",
              "      quickchartButtonEl.style.display =\n",
              "        google.colab.kernel.accessAllowed ? 'block' : 'none';\n",
              "    })();\n",
              "  </script>\n",
              "</div>\n",
              "\n",
              "    </div>\n",
              "  </div>\n"
            ],
            "application/vnd.google.colaboratory.intrinsic+json": {
              "type": "dataframe",
              "variable_name": "train_df",
              "summary": "{\n  \"name\": \"train_df\",\n  \"rows\": 87398,\n  \"fields\": [\n    {\n      \"column\": \"teacher_id\",\n      \"properties\": {\n        \"dtype\": \"string\",\n        \"num_unique_values\": 60778,\n        \"samples\": [\n          \"3f99bb99bf9b31b0ab43c74f864ea968\",\n          \"d8f570298c984c4b7cde17b3d68a45f6\",\n          \"03de69835177f91164466297e6c59e81\"\n        ],\n        \"semantic_type\": \"\",\n        \"description\": \"\"\n      }\n    },\n    {\n      \"column\": \"teacher_prefix\",\n      \"properties\": {\n        \"dtype\": \"category\",\n        \"num_unique_values\": 5,\n        \"samples\": [\n          \"Ms.\",\n          \"Dr.\",\n          \"Mr.\"\n        ],\n        \"semantic_type\": \"\",\n        \"description\": \"\"\n      }\n    },\n    {\n      \"column\": \"school_state\",\n      \"properties\": {\n        \"dtype\": \"category\",\n        \"num_unique_values\": 51,\n        \"samples\": [\n          \"RI\",\n          \"MS\",\n          \"AK\"\n        ],\n        \"semantic_type\": \"\",\n        \"description\": \"\"\n      }\n    },\n    {\n      \"column\": \"project_submitted_datetime\",\n      \"properties\": {\n        \"dtype\": \"object\",\n        \"num_unique_values\": 86898,\n        \"samples\": [\n          \"2016-05-03 08:57:49\",\n          \"2017-01-09 20:32:29\",\n          \"2016-06-13 22:39:52\"\n        ],\n        \"semantic_type\": \"\",\n        \"description\": \"\"\n      }\n    },\n    {\n      \"column\": \"project_grade_category\",\n      \"properties\": {\n        \"dtype\": \"category\",\n        \"num_unique_values\": 4,\n        \"samples\": [\n          \"Grades PreK-2\",\n          \"Grades 6-8\",\n          \"Grades 3-5\"\n        ],\n        \"semantic_type\": \"\",\n        \"description\": \"\"\n      }\n    },\n    {\n      \"column\": \"project_subject_categories\",\n      \"properties\": {\n        \"dtype\": \"category\",\n        \"num_unique_values\": 51,\n        \"samples\": [\n          \"Health & Sports, History & Civics\",\n          \"History & Civics, Applied Learning\",\n          \"Health & Sports, Warmth, Care & Hunger\"\n        ],\n        \"semantic_type\": \"\",\n        \"description\": \"\"\n      }\n    },\n    {\n      \"column\": \"project_subject_subcategories\",\n      \"properties\": {\n        \"dtype\": \"category\",\n        \"num_unique_values\": 394,\n        \"samples\": [\n          \"Applied Sciences, Nutrition Education\",\n          \"Gym & Fitness, Literature & Writing\",\n          \"Health & Wellness, Parent Involvement\"\n        ],\n        \"semantic_type\": \"\",\n        \"description\": \"\"\n      }\n    },\n    {\n      \"column\": \"project_title\",\n      \"properties\": {\n        \"dtype\": \"string\",\n        \"num_unique_values\": 81317,\n        \"samples\": [\n          \"Help Students Learn Robotics and Computer Programming\",\n          \"Color our World!\",\n          \"Third Graders in Need of Leveled Reading Books!\"\n        ],\n        \"semantic_type\": \"\",\n        \"description\": \"\"\n      }\n    },\n    {\n      \"column\": \"project_essay_1\",\n      \"properties\": {\n        \"dtype\": \"string\",\n        \"num_unique_values\": 77129,\n        \"samples\": [\n          \"My students remind me of me. I always want my students to feel that I can't wait to see them again. I deeply care about them and reflect daily on their needs.\\\\r\\\\n   My students are mostly English Language Learners and most of our students are on free or reduced lunch. Our students have various needs. I try to make my classroom a welcoming and warm place where they want to be. I love my students and only want the best for them. Like many teachers at our school, I constantly work hard in focusing what each student needs to get them to be on the next academic level.\\\\r\\\\n  I work with them small and whole groups to more properly address the areas that they maybe struggling with. All of this takes time and resources. Like many teachers, I try to purchase items that will help my students with their learning. \\\\r\\\\n  Our school recently became a STEAM school. Through science, technology, engineering, art, and mathematics, our school wants to innovate our students to develop skills for the future.\",\n          \"My kindergarten students amaze me on a daily basis. EXCITEMENT and ENGAGEMENT while learning are my top goals as a kindergarten teacher. Keeping students excited about learning, and engaged in lessons starting in kindergarten, is key to a successful educational experience. \\\\r\\\\n\\\\r\\\\nThe 25 kindergarten students in my class attend an all day kindergarten session at CDSA.  \\\\r\\\\nCDSA is located in Boise, Idaho. This year we have expanded and are currently servicing 550 students grades K-6.  Our school is located in an urban Idaho district that services a diverse population of students. The students of my school come from a variety of economic backgrounds & situations, and are able to attend this public school of choice, for an opportunity to focus on the arts. \\\\r\\\\n\",\n          \"Students enjoy opening books and reading to each other. They get excited when they can connect the stories to information covered in our classroom, however, their choices are limited due to the small selection of non-fiction and fictional stories in our classroom library. Not only are they going to use these wonderful books in our classroom, but they will have the opportunity to read them at home. \\\\r\\\\n\\\\r\\\\nI teach at a school where many of the students are not exposure to books selected for their reading levels at home.  \\\\r\\\\n\\\\r\\\\nI want to give my students an experience to find the joy and adventure in reading that I know can be achieved in our classroom! They deserve to have the best and that is what I want to provide for each and every single of my students.\\\\r\\\\n\"\n        ],\n        \"semantic_type\": \"\",\n        \"description\": \"\"\n      }\n    },\n    {\n      \"column\": \"project_essay_2\",\n      \"properties\": {\n        \"dtype\": \"string\",\n        \"num_unique_values\": 87114,\n        \"samples\": [\n          \"This project is to gain the materials to create tangible 3D creations using our technology skills and artistic creativity to realize that there are applicable outcomes to what the students have been learning in class, or to see what collaboration with a parent or guardian can look like at during one of our community outreach activity nights!\\\\r\\\\n\\\\r\\\\nThese 3D printer pens will be used in our class for making connections between our studies, art, and technology for several integrated units, and for use in our community outreach events (as a way for teachers, students, and parents to work together on a creating a tangible 3D printed item from our imaginations).\\\\r\\\\n\\\\r\\\\nWe will be printing bridges from our Portland History unit, forms of weather such as tornados or lightning from our weather unit, or even fossils for our paleontology unit!\\\\r\\\\n\\\\r\\\\nWe are excited to be creative in 3D with your help!\",\n          \"My students are excited for all of the new opportunities to keep it fit in and out of the classroom this year. Students thought that a great way to kick off our Keep it Fit theme would be to start a step count challenge. They came up with the idea of doing a 8 week Step it Up challenge that will restart throughout the year. \\\\r\\\\n\\\\r\\\\nEach student will have a personalized daily/weekly step goal based on their average step count for one week prior to the start of the challenge. To be able to keep track of their daily steps students want to each have their pedometer. The SmartHealth Walking Fit Activity Tracker will be perfect for students to use during the school day to track how many steps they've taken, the distance they've gone, and what their heart rate is. Students will track their data in their science notebooks for the 8 weeks, which will be great practice in collecting and interpreting data! \\\\r\\\\n\\\\r\\\\nStudents thought that to go along with the Step it Up challenge access to great tasting filtered water and their own water tumblers would increase the amount of water students drink each day at school. The PUR water faucet filter will give students access to great tasting water. Many students don't bring their own water bottles to school and there is only one drinking fountain in our classroom. Each student will receive their own insulated water tumbler that they will keep at school.  Students want to make sure that everyone is hydrated and healthy!\",\n          \"My students are eager to read! Everyday we spend time in Guided Reading groups.  Here my students are worked with in small groups to help them become stronger and more confident readers.  During this time we focus on using our reading strategies to solve tricky, new words and our comprehension skills.  \\\\r\\\\n\\\\r\\\\nOur classroom is need of engaging, nonfiction texts to help us grow as readers! With these books my students will be able to work on their reading skills as well as their comprehension skills.  With your donation, my students will be on their way to becoming lifelong and voracious readers!\"\n        ],\n        \"semantic_type\": \"\",\n        \"description\": \"\"\n      }\n    },\n    {\n      \"column\": \"project_essay_3\",\n      \"properties\": {\n        \"dtype\": \"category\",\n        \"num_unique_values\": 3071,\n        \"samples\": [\n          \"My students are at the age where they are starting to develop a sense of what types of stories and books they enjoy reading. This project will empower my students to be able to create their own stories using the artwork from their favorite stories as a guide.\",\n          \"I will teach students a language arts lesson that integrates art.\\\\r\\\\nI will use the alphabet teaching tubs to introduce the letter . The letter of the week is A. I will show them the objects that start with letter A.One of them is Apple . We will use real apples to make stamps on paper . This will be a hands on art activity . Then we will use the reusable write and write pockets that have a picture of an apple in dotted lines , in which students will practice tracing the apple and then draw an apple on their own  Finally they will use the instant learning centers to reinforce concepts learns and to do hands and activities with letters and sounds . \\\\r\\\\nI plan to use the objects in alphabet tubs for many art projects by introducing different letters and having art to go with it . I will also use the tubs to teach vocabulary in art lessons .\",\n          \"Students will learn how machines work by actually creating these simple machines. Telling students about the three different classes of levers is not the same as them actually manipulating the levers to understand the difference. We will combine the hands-on activities with the K'NEX to other lessons build around simple machines. Eventually, students will be able to build their own complex machines by combining simple machines to perform a certain task.\"\n        ],\n        \"semantic_type\": \"\",\n        \"description\": \"\"\n      }\n    },\n    {\n      \"column\": \"project_essay_4\",\n      \"properties\": {\n        \"dtype\": \"category\",\n        \"num_unique_values\": 3070,\n        \"samples\": [\n          \"My project will make a difference! Our classroom will attract freedom, choices, and learning. When provided with choices, students take ownership of their learning. I want to provide a learning environment that is fun and comfortable!\",\n          \"A document camera is sure to engage them in lively conversations about print.  Reading, writing, editing and sharing are just a few of the ways it will improve learning opportunities  each day, ensuring a print rich atmosphere for them all.\",\n          \"Providing students with varied choices for seating that help stimulate their natural need to move will help to create an environment where all students feel like they have the tools they need to be successful! Your help will make it possible for my students to increase their attention and participation in our learning.\"\n        ],\n        \"semantic_type\": \"\",\n        \"description\": \"\"\n      }\n    },\n    {\n      \"column\": \"project_resource_summary\",\n      \"properties\": {\n        \"dtype\": \"string\",\n        \"num_unique_values\": 86783,\n        \"samples\": [\n          \"My students need Lego pieces to supplement our basic classroom collection.\",\n          \"My students need protective cases and screen shields for our new Amazon Fire 7 tablets.  I am thrilled that our project was funded, and am now wanting to protect this precious investment.\",\n          \"My students need these books to help them understand the diverse world of literature.\"\n        ],\n        \"semantic_type\": \"\",\n        \"description\": \"\"\n      }\n    },\n    {\n      \"column\": \"teacher_number_of_previously_posted_projects\",\n      \"properties\": {\n        \"dtype\": \"number\",\n        \"std\": 27,\n        \"min\": 0,\n        \"max\": 451,\n        \"num_unique_values\": 362,\n        \"samples\": [\n          305,\n          49,\n          24\n        ],\n        \"semantic_type\": \"\",\n        \"description\": \"\"\n      }\n    },\n    {\n      \"column\": \"project_is_approved\",\n      \"properties\": {\n        \"dtype\": \"number\",\n        \"std\": 0,\n        \"min\": 0,\n        \"max\": 1,\n        \"num_unique_values\": 2,\n        \"samples\": [\n          0,\n          1\n        ],\n        \"semantic_type\": \"\",\n        \"description\": \"\"\n      }\n    },\n    {\n      \"column\": \"total_quantity\",\n      \"properties\": {\n        \"dtype\": \"number\",\n        \"std\": 26,\n        \"min\": 1,\n        \"max\": 930,\n        \"num_unique_values\": 314,\n        \"samples\": [\n          400,\n          37\n        ],\n        \"semantic_type\": \"\",\n        \"description\": \"\"\n      }\n    },\n    {\n      \"column\": \"total_price\",\n      \"properties\": {\n        \"dtype\": \"number\",\n        \"std\": 367.4324219875254,\n        \"min\": 0.69,\n        \"max\": 9999.0,\n        \"num_unique_values\": 41191,\n        \"samples\": [\n          310.26,\n          553.82\n        ],\n        \"semantic_type\": \"\",\n        \"description\": \"\"\n      }\n    }\n  ]\n}"
            }
          },
          "metadata": {},
          "execution_count": 23
        }
      ]
    },
    {
      "cell_type": "code",
      "source": [
        "categorical_columns = ['teacher_prefix', 'school_state', 'project_grade_category', 'project_subject_categories']\n",
        "\n",
        "for col in categorical_columns:\n",
        "    ln = LabelEncoder()\n",
        "    train_df[col] = ln.fit_transform(train_df[col])\n",
        "    test_df[col] = ln.transform(test_df[col])"
      ],
      "metadata": {
        "id": "OXU04_JIJf0p"
      },
      "execution_count": null,
      "outputs": []
    },
    {
      "cell_type": "code",
      "source": [
        "train_cols = ['teacher_prefix', 'school_state', 'project_grade_category', 'project_subject_categories', 'teacher_number_of_previously_posted_projects', 'total_quantity', 'total_price']\n",
        "target_col = 'project_is_approved'"
      ],
      "metadata": {
        "id": "PL8UYzG7J0kL"
      },
      "execution_count": null,
      "outputs": []
    },
    {
      "cell_type": "code",
      "source": [
        "train_df1, valid_df1 = train_test_split(train_df, test_size=0.2)"
      ],
      "metadata": {
        "id": "EIEAcjqaKHwq"
      },
      "execution_count": null,
      "outputs": []
    },
    {
      "cell_type": "code",
      "source": [
        "X_train, y_train = train_df1[train_cols], train_df1[target_col]\n",
        "X_valid, y_valid = valid_df1[train_cols], valid_df1[target_col]"
      ],
      "metadata": {
        "id": "ibyhs0MGLQe3"
      },
      "execution_count": null,
      "outputs": []
    },
    {
      "cell_type": "code",
      "source": [
        "model = LogisticRegression()\n",
        "model.fit(X_train, y_train)"
      ],
      "metadata": {
        "colab": {
          "base_uri": "https://localhost:8080/",
          "height": 218
        },
        "id": "tRAdhJt3MAJF",
        "outputId": "aac208f6-48d4-428c-ac1e-05a2f484b216"
      },
      "execution_count": null,
      "outputs": [
        {
          "output_type": "stream",
          "name": "stderr",
          "text": [
            "/usr/local/lib/python3.10/dist-packages/sklearn/linear_model/_logistic.py:458: ConvergenceWarning: lbfgs failed to converge (status=1):\n",
            "STOP: TOTAL NO. of ITERATIONS REACHED LIMIT.\n",
            "\n",
            "Increase the number of iterations (max_iter) or scale the data as shown in:\n",
            "    https://scikit-learn.org/stable/modules/preprocessing.html\n",
            "Please also refer to the documentation for alternative solver options:\n",
            "    https://scikit-learn.org/stable/modules/linear_model.html#logistic-regression\n",
            "  n_iter_i = _check_optimize_result(\n"
          ]
        },
        {
          "output_type": "execute_result",
          "data": {
            "text/plain": [
              "LogisticRegression()"
            ],
            "text/html": [
              "<style>#sk-container-id-1 {color: black;background-color: white;}#sk-container-id-1 pre{padding: 0;}#sk-container-id-1 div.sk-toggleable {background-color: white;}#sk-container-id-1 label.sk-toggleable__label {cursor: pointer;display: block;width: 100%;margin-bottom: 0;padding: 0.3em;box-sizing: border-box;text-align: center;}#sk-container-id-1 label.sk-toggleable__label-arrow:before {content: \"▸\";float: left;margin-right: 0.25em;color: #696969;}#sk-container-id-1 label.sk-toggleable__label-arrow:hover:before {color: black;}#sk-container-id-1 div.sk-estimator:hover label.sk-toggleable__label-arrow:before {color: black;}#sk-container-id-1 div.sk-toggleable__content {max-height: 0;max-width: 0;overflow: hidden;text-align: left;background-color: #f0f8ff;}#sk-container-id-1 div.sk-toggleable__content pre {margin: 0.2em;color: black;border-radius: 0.25em;background-color: #f0f8ff;}#sk-container-id-1 input.sk-toggleable__control:checked~div.sk-toggleable__content {max-height: 200px;max-width: 100%;overflow: auto;}#sk-container-id-1 input.sk-toggleable__control:checked~label.sk-toggleable__label-arrow:before {content: \"▾\";}#sk-container-id-1 div.sk-estimator input.sk-toggleable__control:checked~label.sk-toggleable__label {background-color: #d4ebff;}#sk-container-id-1 div.sk-label input.sk-toggleable__control:checked~label.sk-toggleable__label {background-color: #d4ebff;}#sk-container-id-1 input.sk-hidden--visually {border: 0;clip: rect(1px 1px 1px 1px);clip: rect(1px, 1px, 1px, 1px);height: 1px;margin: -1px;overflow: hidden;padding: 0;position: absolute;width: 1px;}#sk-container-id-1 div.sk-estimator {font-family: monospace;background-color: #f0f8ff;border: 1px dotted black;border-radius: 0.25em;box-sizing: border-box;margin-bottom: 0.5em;}#sk-container-id-1 div.sk-estimator:hover {background-color: #d4ebff;}#sk-container-id-1 div.sk-parallel-item::after {content: \"\";width: 100%;border-bottom: 1px solid gray;flex-grow: 1;}#sk-container-id-1 div.sk-label:hover label.sk-toggleable__label {background-color: #d4ebff;}#sk-container-id-1 div.sk-serial::before {content: \"\";position: absolute;border-left: 1px solid gray;box-sizing: border-box;top: 0;bottom: 0;left: 50%;z-index: 0;}#sk-container-id-1 div.sk-serial {display: flex;flex-direction: column;align-items: center;background-color: white;padding-right: 0.2em;padding-left: 0.2em;position: relative;}#sk-container-id-1 div.sk-item {position: relative;z-index: 1;}#sk-container-id-1 div.sk-parallel {display: flex;align-items: stretch;justify-content: center;background-color: white;position: relative;}#sk-container-id-1 div.sk-item::before, #sk-container-id-1 div.sk-parallel-item::before {content: \"\";position: absolute;border-left: 1px solid gray;box-sizing: border-box;top: 0;bottom: 0;left: 50%;z-index: -1;}#sk-container-id-1 div.sk-parallel-item {display: flex;flex-direction: column;z-index: 1;position: relative;background-color: white;}#sk-container-id-1 div.sk-parallel-item:first-child::after {align-self: flex-end;width: 50%;}#sk-container-id-1 div.sk-parallel-item:last-child::after {align-self: flex-start;width: 50%;}#sk-container-id-1 div.sk-parallel-item:only-child::after {width: 0;}#sk-container-id-1 div.sk-dashed-wrapped {border: 1px dashed gray;margin: 0 0.4em 0.5em 0.4em;box-sizing: border-box;padding-bottom: 0.4em;background-color: white;}#sk-container-id-1 div.sk-label label {font-family: monospace;font-weight: bold;display: inline-block;line-height: 1.2em;}#sk-container-id-1 div.sk-label-container {text-align: center;}#sk-container-id-1 div.sk-container {/* jupyter's `normalize.less` sets `[hidden] { display: none; }` but bootstrap.min.css set `[hidden] { display: none !important; }` so we also need the `!important` here to be able to override the default hidden behavior on the sphinx rendered scikit-learn.org. See: https://github.com/scikit-learn/scikit-learn/issues/21755 */display: inline-block !important;position: relative;}#sk-container-id-1 div.sk-text-repr-fallback {display: none;}</style><div id=\"sk-container-id-1\" class=\"sk-top-container\"><div class=\"sk-text-repr-fallback\"><pre>LogisticRegression()</pre><b>In a Jupyter environment, please rerun this cell to show the HTML representation or trust the notebook. <br />On GitHub, the HTML representation is unable to render, please try loading this page with nbviewer.org.</b></div><div class=\"sk-container\" hidden><div class=\"sk-item\"><div class=\"sk-estimator sk-toggleable\"><input class=\"sk-toggleable__control sk-hidden--visually\" id=\"sk-estimator-id-1\" type=\"checkbox\" checked><label for=\"sk-estimator-id-1\" class=\"sk-toggleable__label sk-toggleable__label-arrow\">LogisticRegression</label><div class=\"sk-toggleable__content\"><pre>LogisticRegression()</pre></div></div></div></div></div>"
            ]
          },
          "metadata": {},
          "execution_count": 54
        }
      ]
    },
    {
      "cell_type": "code",
      "source": [
        "# Make predictions on the test set\n",
        "y_pred = model.predict(X_valid)\n",
        "\n",
        "# Evaluate the model's performance using accuracy\n",
        "accuracy = accuracy_score(y_valid, y_pred)\n",
        "print(f\"Accuracy: {accuracy}\")\n",
        "\n",
        "# Generate classification report\n",
        "report = classification_report(y_valid, y_pred)\n",
        "print(\"Classification Report:\\n\", report)"
      ],
      "metadata": {
        "colab": {
          "base_uri": "https://localhost:8080/"
        },
        "id": "eQ6rwNngMLEX",
        "outputId": "e8c24ce3-54f1-4224-ba0a-3bd050a7e27f"
      },
      "execution_count": null,
      "outputs": [
        {
          "output_type": "stream",
          "name": "stdout",
          "text": [
            "Accuracy: 0.8453089244851258\n",
            "Classification Report:\n",
            "               precision    recall  f1-score   support\n",
            "\n",
            "           0       0.21      0.00      0.01      2677\n",
            "           1       0.85      1.00      0.92     14803\n",
            "\n",
            "    accuracy                           0.85     17480\n",
            "   macro avg       0.53      0.50      0.46     17480\n",
            "weighted avg       0.75      0.85      0.78     17480\n",
            "\n"
          ]
        }
      ]
    },
    {
      "cell_type": "code",
      "source": [
        "X_test = test_df[train_cols]\n",
        "y_test_preds = model.predict(X_test)"
      ],
      "metadata": {
        "id": "EsPN4lpiMPTy"
      },
      "execution_count": null,
      "outputs": []
    },
    {
      "cell_type": "code",
      "source": [
        "y_test_preds"
      ],
      "metadata": {
        "colab": {
          "base_uri": "https://localhost:8080/"
        },
        "id": "1Ozhnj7TMeXO",
        "outputId": "712c74d5-eab7-4350-87ea-e95844cd32cc"
      },
      "execution_count": null,
      "outputs": [
        {
          "output_type": "execute_result",
          "data": {
            "text/plain": [
              "array([1, 1, 1, ..., 1, 1, 1])"
            ]
          },
          "metadata": {},
          "execution_count": 58
        }
      ]
    },
    {
      "cell_type": "code",
      "source": [
        "test_df[target_col] = y_test_preds"
      ],
      "metadata": {
        "id": "sU0mRFnPMiH7"
      },
      "execution_count": null,
      "outputs": []
    },
    {
      "cell_type": "code",
      "source": [
        "test_df[target_col].value_counts()"
      ],
      "metadata": {
        "colab": {
          "base_uri": "https://localhost:8080/"
        },
        "id": "Po0jXbjwMupn",
        "outputId": "7cfa8a5e-ee9a-4439-945b-16b738afa474"
      },
      "execution_count": null,
      "outputs": [
        {
          "output_type": "execute_result",
          "data": {
            "text/plain": [
              "project_is_approved\n",
              "1    21798\n",
              "0       52\n",
              "Name: count, dtype: int64"
            ]
          },
          "metadata": {},
          "execution_count": 60
        }
      ]
    },
    {
      "cell_type": "code",
      "source": [],
      "metadata": {
        "id": "d6TyVUEQMwuy"
      },
      "execution_count": null,
      "outputs": []
    }
  ]
}